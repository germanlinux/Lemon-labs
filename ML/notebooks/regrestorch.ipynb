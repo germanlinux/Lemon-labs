{
 "cells": [
  {
   "cell_type": "code",
   "execution_count": 1,
   "metadata": {},
   "outputs": [],
   "source": [
    "import torch\n",
    "import pandas as pd\n",
    "import numpy as np\n",
    "import matplotlib.pyplot as plt\n",
    "from torch.autograd import Variable\n",
    "class linearRegression(torch.nn.Module):\n",
    "    def __init__(self, inputSize, outputSize):\n",
    "        super(linearRegression, self).__init__()\n",
    "        self.linear = torch.nn.Linear(inputSize, outputSize)\n",
    "\n",
    "    def forward(self, x):\n",
    "        out = self.linear(x)\n",
    "        return out"
   ]
  },
  {
   "cell_type": "code",
   "execution_count": 2,
   "metadata": {},
   "outputs": [],
   "source": [
    "inputDim = 1        # takes variable 'x' \n",
    "outputDim = 1       # takes variable 'y'\n",
    "learningRate = 0.01 \n",
    "epochs = 150\n",
    "\n",
    "model = linearRegression(inputDim, outputDim)"
   ]
  },
  {
   "cell_type": "code",
   "execution_count": 3,
   "metadata": {},
   "outputs": [],
   "source": [
    "criterion = torch.nn.MSELoss() \n",
    "optimizer = torch.optim.SGD(model.parameters(), lr=learningRate)"
   ]
  },
  {
   "cell_type": "code",
   "execution_count": 4,
   "metadata": {},
   "outputs": [
    {
     "name": "stdout",
     "output_type": "stream",
     "text": [
      "8.159800000000002 3.8498839959227156\n",
      "0   -0.532406\n",
      "1   -0.683683\n",
      "2    0.093198\n",
      "3   -0.300425\n",
      "4   -0.597421\n",
      "Name: x, dtype: float64\n",
      "          x        nx\n",
      "0    6.1101 -0.532406\n",
      "1    5.5277 -0.683683\n",
      "2    8.5186  0.093198\n",
      "3    7.0032 -0.300425\n",
      "4    5.8598 -0.597421\n",
      "..      ...       ...\n",
      "92   5.8707 -0.594589\n",
      "93   5.3054 -0.741425\n",
      "94   8.2934  0.034702\n",
      "95  13.3940  1.359573\n",
      "96   5.4369 -0.707268\n",
      "\n",
      "[97 rows x 2 columns]\n",
      "8.159800000000002\n",
      "3.8498839959227156\n"
     ]
    }
   ],
   "source": [
    "def normalise(dataf):\n",
    "    mu    = 0\n",
    "    sigma = 0\n",
    "    mu = dataf.mean()\n",
    "    sigma = dataf.std( ddof=0)\n",
    "    snorm = dataf\n",
    "    snorm.columns = ['normalised']\n",
    "    snorm =(snorm - mu )/ sigma\n",
    "    dtnorm = pd.concat([dataf,snorm],  axis =1)\n",
    "    dtnorm.columns = ['x', 'nx']\n",
    "    print(mu, sigma)\n",
    "    print(snorm.head(5))\n",
    "    return dtnorm , mu , sigma\n",
    "\n",
    "data = pd.read_csv('ex1data1.txt', header=None,sep =',', names= ['x','y'])\n",
    "y = data['y'].to_numpy()\n",
    "norm,mu, sigma = normalise(data['x'])\n",
    "print(norm)\n",
    "print(mu)\n",
    "print(sigma)\n",
    "X = norm['x'].to_numpy()\n",
    "X_train = X.reshape(-1, 1)\n",
    "X_train= X_train.astype(np.float32)\n",
    "y_train = y.reshape(-1, 1)\n",
    "y_train= y_train.astype(np.float32)"
   ]
  },
  {
   "cell_type": "code",
   "execution_count": 5,
   "metadata": {},
   "outputs": [
    {
     "name": "stdout",
     "output_type": "stream",
     "text": [
      "Parameter containing:\n",
      "tensor([[0.9810]], requires_grad=True)\n",
      "Parameter containing:\n",
      "tensor([-1.7855], requires_grad=True)\n",
      "intercept : 1.7855368852615356\n",
      "slope : 0.9810368\n"
     ]
    }
   ],
   "source": [
    "history = []\n",
    "\n",
    "for epoch in range(epochs):\n",
    "    # Converting inputs and labels to Variable\n",
    "    inputs = Variable(torch.from_numpy(X_train))\n",
    "    labels = Variable(torch.from_numpy(y_train))\n",
    "    # Clear gradient buffers because we don't want any gradient from previous epoch to carry forward, dont want to cummulate gradients\n",
    "    optimizer.zero_grad()\n",
    "\n",
    "    # get output from the model, given the inputs\n",
    "    outputs = model(inputs)\n",
    "\n",
    "    # get loss for the predicted output\n",
    "    loss = criterion(outputs, labels)\n",
    "   # print(loss.item())\n",
    "    history.append(loss.item())\n",
    "    # get gradients w.r.t to parameters\n",
    "    loss.backward()\n",
    "\n",
    "    # update parameters\n",
    "    optimizer.step()\n",
    "   \n",
    "   # print('epoch {}, loss {}'.format(epoch, loss.item()))\n",
    "[w, b] = model.parameters()\n",
    "print(w)\n",
    "print(b)\n",
    "print('intercept :' ,0 - model.linear.bias.data.numpy()[0])\n",
    "print('slope :' , model.linear.weight.data.numpy()[0][0])\n"
   ]
  },
  {
   "cell_type": "code",
   "execution_count": 6,
   "metadata": {
    "scrolled": true
   },
   "outputs": [
    {
     "data": {
      "image/png": "[encoded data removed]",
      "text/plain": [
       "<Figure size 432x288 with 1 Axes>"
      ]
     },
     "metadata": {
      "needs_background": "light"
     },
     "output_type": "display_data"
    }
   ],
   "source": [
    "with torch.no_grad(): # we don't need gradients in the testing phase\n",
    "    predicted = model(Variable(torch.from_numpy(X_train))).data.numpy()\n",
    "    #print(predicted)\n",
    "\n",
    "plt.clf()\n",
    "plt.plot(X_train, y_train, 'go', label='True data', alpha=0.5)\n",
    "plt.plot(X_train, predicted, '--', label='Predictions', alpha=0.5)\n",
    "plt.legend(loc='best')\n",
    "plt.show()\n"
   ]
  },
  {
   "cell_type": "code",
   "execution_count": 7,
   "metadata": {},
   "outputs": [
    {
     "name": "stdout",
     "output_type": "stream",
     "text": [
      "tensor([16480.9199]) tensor([50817.2070]) tensor([-338.5949])\n"
     ]
    }
   ],
   "source": [
    "ww = -model.linear.bias.data.numpy()[0]\n",
    "with torch.no_grad(): # we don't need gradients in the testing phase\n",
    "    v =  torch.tensor([3.5])\n",
    "    w = torch.tensor([7.0])\n",
    "    orig = torch.tensor([ww ])\n",
    "    test1 = model(v) \n",
    "    test2 = model(w)\n",
    "    test3 = model(orig)\n",
    "print(test1*10000,test2*10000, test3 * 10000)    \n"
   ]
  },
  {
   "cell_type": "code",
   "execution_count": 8,
   "metadata": {},
   "outputs": [
    {
     "data": {
      "text/plain": [
       "[<matplotlib.lines.Line2D at 0x7fa42c0a24d0>]"
      ]
     },
     "execution_count": 8,
     "metadata": {},
     "output_type": "execute_result"
    },
    {
     "data": {
      "image/png": "[encoded data removed]",
      "text/plain": [
       "<Figure size 432x288 with 1 Axes>"
      ]
     },
     "metadata": {
      "needs_background": "light"
     },
     "output_type": "display_data"
    }
   ],
   "source": [
    "plt.clf\n",
    "x_ = range(1, epochs +1 )\n",
    "plt.plot(x_, history)"
   ]
  },
  {
   "cell_type": "code",
   "execution_count": null,
   "metadata": {},
   "outputs": [],
   "source": []
  }
 ],
 "metadata": {
  "kernelspec": {
   "display_name": "pytorch",
   "language": "python",
   "name": "mypytorch"
  },
  "language_info": {
   "codemirror_mode": {
    "name": "ipython",
    "version": 3
   },
   "file_extension": ".py",
   "mimetype": "text/x-python",
   "name": "python",
   "nbconvert_exporter": "python",
   "pygments_lexer": "ipython3",
   "version": "3.7.6"
  }
 },
 "nbformat": 4,
 "nbformat_minor": 4
}
