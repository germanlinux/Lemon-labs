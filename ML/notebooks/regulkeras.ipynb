{
 "cells": [
  {
   "cell_type": "code",
   "execution_count": 1,
   "metadata": {},
   "outputs": [],
   "source": [
    "from keras.models import Sequential\n",
    "from keras.layers import Dense\n",
    "from keras import initializers\n",
    "from keras.wrappers.scikit_learn import KerasRegressor\n",
    "from sklearn.model_selection import cross_val_score\n",
    "from sklearn.model_selection import KFold\n",
    "import pandas as pd\n",
    "from sklearn import preprocessing\n",
    "import matplotlib.pyplot as plt\n",
    "import pickle\n",
    "filename = 'regul_red3'\n",
    "fileest = 'estimations3'\n",
    "#result = cross_val_score(estimator, X, y cv = kfold())\n",
    "#print(result.mean(), result.std())"
   ]
  },
  {
   "cell_type": "code",
   "execution_count": 2,
   "metadata": {},
   "outputs": [],
   "source": [
    "try: \n",
    "    with open(filename, 'rb') as f1:\n",
    "        res = pickle.load(f1)\n",
    "except: \n",
    "    res = {}"
   ]
  },
  {
   "cell_type": "code",
   "execution_count": 3,
   "metadata": {},
   "outputs": [],
   "source": [
    "try: \n",
    "    with open(fileest, 'rb') as f2:\n",
    "        resest = pickle.load(f2)\n",
    "except: \n",
    "    resest = {}"
   ]
  },
  {
   "cell_type": "code",
   "execution_count": 4,
   "metadata": {},
   "outputs": [
    {
     "name": "stdout",
     "output_type": "stream",
     "text": [
      "8.159800000000002 3.8498839959227156\n",
      "0   -0.532406\n",
      "1   -0.683683\n",
      "2    0.093198\n",
      "3   -0.300425\n",
      "4   -0.597421\n",
      "Name: x, dtype: float64\n",
      "          x        nx\n",
      "0    6.1101 -0.532406\n",
      "1    5.5277 -0.683683\n",
      "2    8.5186  0.093198\n",
      "3    7.0032 -0.300425\n",
      "4    5.8598 -0.597421\n",
      "..      ...       ...\n",
      "92   5.8707 -0.594589\n",
      "93   5.3054 -0.741425\n",
      "94   8.2934  0.034702\n",
      "95  13.3940  1.359573\n",
      "96   5.4369 -0.707268\n",
      "\n",
      "[97 rows x 2 columns]\n",
      "8.159800000000002\n",
      "3.8498839959227156\n"
     ]
    }
   ],
   "source": [
    "def normalise(dataf):\n",
    "    mu    = 0\n",
    "    sigma = 0\n",
    "    mu = dataf.mean()\n",
    "    sigma = dataf.std( ddof=0)\n",
    "    snorm = dataf\n",
    "    snorm.columns = ['normalised']\n",
    "    snorm =(snorm - mu )/ sigma\n",
    "    dtnorm = pd.concat([dataf,snorm],  axis =1)\n",
    "    dtnorm.columns = ['x', 'nx']\n",
    "    print(mu, sigma)\n",
    "    print(snorm.head(5))\n",
    "    return dtnorm , mu , sigma\n",
    "\n",
    "data = pd.read_csv('ex1data1.txt', header=None,sep =',', names= ['x','y'])\n",
    "y = data['y'].to_numpy()\n",
    "norm,mu, sigma = normalise(data['x'])\n",
    "print(norm)\n",
    "print(mu)\n",
    "print(sigma)\n",
    "X = norm['nx'].to_numpy()\n"
   ]
  },
  {
   "cell_type": "code",
   "execution_count": 5,
   "metadata": {
    "scrolled": true
   },
   "outputs": [
    {
     "name": "stdout",
     "output_type": "stream",
     "text": [
      "-1.2103741320348982 -0.30125583036483905\n",
      "estimation 35000:  [[6439.0923]]\n",
      "estimation 70000:  [[47226.742]]\n",
      "Model: \"sequential\"\n",
      "_________________________________________________________________\n",
      "Layer (type)                 Output Shape              Param #   \n",
      "=================================================================\n",
      "dense (Dense)                (None, 1)                 2         \n",
      "_________________________________________________________________\n",
      "dense_1 (Dense)              (None, 1)                 2         \n",
      "=================================================================\n",
      "Total params: 4\n",
      "Trainable params: 4\n",
      "Non-trainable params: 0\n",
      "_________________________________________________________________\n",
      "None\n"
     ]
    },
    {
     "data": {
      "image/png": "[encoded data removed]",
      "text/plain": [
       "<Figure size 432x288 with 1 Axes>"
      ]
     },
     "metadata": {
      "needs_background": "light"
     },
     "output_type": "display_data"
    },
    {
     "data": {
      "image/png": "[encoded data removed]",
      "text/plain": [
       "<Figure size 432x288 with 1 Axes>"
      ]
     },
     "metadata": {
      "needs_background": "light"
     },
     "output_type": "display_data"
    }
   ],
   "source": [
    "\n",
    "model = Sequential()\n",
    "model.add(Dense(1, input_dim= 1, kernel_initializer =initializers.RandomNormal(seed= 1), activation='linear'))\n",
    "model.add(Dense(1, input_dim= 1, kernel_initializer =initializers.random_normal(seed= 1)))\n",
    "model.compile(loss=\"mean_squared_error\", optimizer ='sgd')\n",
    "\n",
    "    #model.add(Dense(8, activation='relu'))\n",
    "    #model.add(Dense(1, activation='relu'))\n",
    "    #model.add(Dense(units = 64, activation='relu'))\n",
    "model.save_weights('model.h5')\n",
    "epoch = 10\n",
    "bz = 15\n",
    "history =model.fit(X,y, epochs =  epoch,  batch_size = bz,verbose  = 0)\n",
    "estimation = [] \n",
    "for un_x in X :\n",
    "    estimation.append(model.predict([un_x]).flatten().tolist()[0])\n",
    "    \n",
    "plt.scatter(X, y, c='red', marker ='x')\n",
    "plt.plot(X, estimation)    \n",
    "est1 = (3.5000 - mu) / sigma\n",
    "est2 = (7.0000 - mu) / sigma\n",
    "\n",
    "print(est1, est2)\n",
    "ret1 = (model.predict([est1])*10000)\n",
    "ret2 = (model.predict([est2])*10000)\n",
    "print('estimation 35000: ',ret1)\n",
    "print('estimation 70000: ',ret2)\n",
    "loss5 = history.history['loss']\n",
    "cle = str(epoch) + '_' + str(bz)\n",
    "resest[cle] = [ret1, ret2]\n",
    "res[cle] = loss5\n",
    "with open(filename, 'wb') as f1:\n",
    "     pickle.dump(res, f1)\n",
    "with open(fileest, 'wb') as f2:\n",
    "     pickle.dump(resest, f2)        \n",
    "epoch = range(1,epoch + 1)\n",
    "plt.figure()\n",
    "plt.plot(epoch,loss5,'bo')\n",
    "print( model.summary())"
   ]
  },
  {
   "cell_type": "code",
   "execution_count": null,
   "metadata": {},
   "outputs": [],
   "source": [
    "loss5 = history.history['loss']\n",
    "del model\n",
    "model = Sequential()\n",
    "model.add(Dense(1, input_dim= 1, kernel_initializer =initializers.RandomNormal(seed= 1), activation='linear'))\n",
    "#model.add(Dense(units = 64, activation='relu'))\n",
    "model.add(Dense(1, input_dim= 1, kernel_initializer =initializers.random_normal(seed= 1)))\n",
    "model.compile(loss=\"mean_squared_error\", optimizer ='sgd')\n",
    "\n",
    "    #model.add(Dense(8, activation='relu'))\n",
    "    #model.add(Dense(1, activation='relu'))\n",
    "model.load_weights('model.h5')\n",
    "\n",
    "history =model.fit(X,y, epochs =  7,  batch_size = 1,verbose  = 0)\n",
    "loss10 = history.history['loss']\n",
    "del model\n",
    "model = Sequential()\n",
    "model.add(Dense(1, input_dim= 1, kernel_initializer =initializers.RandomNormal(seed= 1), activation='linear'))\n",
    "#model.add(Dense(units = 64, activation='relu'))\n",
    "model.add(Dense(1, input_dim= 1, kernel_initializer =initializers.random_normal(seed= 1)))\n",
    "model.compile(loss=\"mean_squared_error\", optimizer ='sgd')\n",
    "\n",
    "    #model.add(Dense(8, activation='relu'))\n",
    "    #model.add(Dense(1, activation='relu'))\n",
    "model.load_weights('model.h5')\n",
    "history =model.fit(X,y, epochs =  7,  batch_size = 40,verbose  = 0)\n",
    "loss20 = history.history['loss']\n"
   ]
  },
  {
   "cell_type": "code",
   "execution_count": null,
   "metadata": {},
   "outputs": [],
   "source": [
    "epoch = range(1,8)\n",
    "plt.figure()\n",
    "plt.plot(epoch,loss5,'bo')\n",
    "plt.plot(epoch,loss10,'ro')\n",
    "plt.plot(epoch,loss20,'go')\n",
    "plt.legend([\"size 5\",\"size 1\", \"size 40\"])\n",
    "plt.show()"
   ]
  },
  {
   "cell_type": "code",
   "execution_count": null,
   "metadata": {},
   "outputs": [],
   "source": []
  }
 ],
 "metadata": {
  "kernelspec": {
   "display_name": "keras",
   "language": "python",
   "name": "mytf"
  },
  "language_info": {
   "codemirror_mode": {
    "name": "ipython",
    "version": 3
   },
   "file_extension": ".py",
   "mimetype": "text/x-python",
   "name": "python",
   "nbconvert_exporter": "python",
   "pygments_lexer": "ipython3",
   "version": "3.7.6"
  }
 },
 "nbformat": 4,
 "nbformat_minor": 4
}
