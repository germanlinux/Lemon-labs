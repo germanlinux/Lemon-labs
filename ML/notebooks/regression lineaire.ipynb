{
 "cells": [
  {
   "cell_type": "markdown",
   "metadata": {},
   "source": [
    "## Chargement des données"
   ]
  },
  {
   "cell_type": "code",
   "execution_count": 3,
   "metadata": {},
   "outputs": [],
   "source": [
    "import pandas as pd\n",
    "data = pd.read_csv('parcelles_ext.csv', sep=';')\n",
    "import numpy as np\n",
    "data.replace('None',np.nan , inplace = True )\n",
    "data2 = data[['valeur_fonciere','surface_reelle_bati','adresse_code_voie', 'nombre_pieces_principales']]\n",
    "data2 = data2.dropna()\n",
    "y= data2['valeur_fonciere'].to_numpy()\n",
    "X=data2['surface_reelle_bati'].to_numpy()\n",
    "X = np.reshape(X,(-1,1))\n",
    "y = np.reshape(y,(-1,1))"
   ]
  },
  {
   "cell_type": "markdown",
   "metadata": {},
   "source": [
    "## Fonctions de calcul du coût et du gradient"
   ]
  },
  {
   "cell_type": "code",
   "execution_count": 84,
   "metadata": {},
   "outputs": [],
   "source": [
    "import numpy as np\n",
    "import matplotlib.pyplot as plt\n",
    "%matplotlib inline\n",
    "\n",
    "plt.style.use(['ggplot'])\n",
    "\n",
    "\n",
    "def  cost_function(theta,X,y):   \n",
    "    m = len(y)\n",
    "    predictions = X.dot(theta)\n",
    "    cost = (1/2*m) * np.sum(np.square(predictions-y))\n",
    "    return cost\n",
    "\n",
    "def gradient(theta,X,y):\n",
    "    #print(X.shape)\n",
    "    #print(theta.shape)\n",
    "    prediction = np.dot(X,theta)\n",
    "    t_gradient = 1/len(y)*(X.T.dot(prediction-y))\n",
    "    return t_gradient\n",
    "''' fonction de descente batch '''\n",
    "def gradient_descent(X,y,theta, alpha=0.01,iterations=100):\n",
    "    m = len(y)\n",
    "    cost_history = np.zeros(iterations)\n",
    "    theta_history = np.zeros((iterations,2))\n",
    "    for it in range(iterations):   \n",
    "        prediction = np.dot(X,theta)\n",
    "        theta = theta -(1/m)*alpha*( X.T.dot(prediction - y))\n",
    "        theta_history[it,:] =theta.T\n",
    "        cost_history[it]  = cost_function(theta,X,y)     \n",
    "    return theta, cost_history, theta_history"
   ]
  },
  {
   "cell_type": "markdown",
   "metadata": {},
   "source": [
    "## Batch de descente du gradient"
   ]
  },
  {
   "cell_type": "code",
   "execution_count": 63,
   "metadata": {
    "scrolled": true
   },
   "outputs": [
    {
     "name": "stdout",
     "output_type": "stream",
     "text": [
      "theta [[ 1.77172068]\n",
      " [-1.42328019]]\n",
      "X + biais [[  1. 117.]\n",
      " [  1. 113.]\n",
      " [  1.  91.]\n",
      " [  1.  61.]\n",
      " [  1. 150.]]\n"
     ]
    }
   ],
   "source": [
    "lr =0.0001\n",
    "n_iter = 100000*8\n",
    "theta = np.random.randn(2,1)\n",
    "initial_theta = theta\n",
    "X_b = np.c_[np.ones((len(X),1)),X]\n",
    "print('theta', theta)\n",
    "print('X + biais', X_b[:5])\n"
   ]
  },
  {
   "cell_type": "code",
   "execution_count": 97,
   "metadata": {
    "scrolled": true
   },
   "outputs": [
    {
     "name": "stdout",
     "output_type": "stream",
     "text": [
      "[[165491.74025171]\n",
      " [  2184.80220709]]\n",
      "batch de descente\n",
      "intercep [165491.74025171]\n",
      "pente [2184.80220709]\n",
      "[547832.1264928]\n"
     ]
    }
   ],
   "source": [
    "theta,cost_history,theta_history = gradient_descent(X_b,y,theta,lr,n_iter)\n",
    "\n",
    "print('batch de descente')\n",
    "print('intercep', theta[0])\n",
    "print('pente', theta[1])\n",
    "print('pour la valeur 175:')\n",
    "x = np.array([1, 175])\n",
    "print(np.dot(x, theta))      "
   ]
  },
  {
   "cell_type": "code",
   "execution_count": 83,
   "metadata": {
    "scrolled": true
   },
   "outputs": [
    {
     "name": "stdout",
     "output_type": "stream",
     "text": [
      "[[  -379819.08648347]\n",
      " [-42397937.79608859]]\n",
      "7.415253860733077e+22\n"
     ]
    }
   ],
   "source": [
    "gr = gradient(initial_theta,X_b , y)\n",
    "print(gr)\n",
    "cs = cost_function(gr, X_b, y )\n",
    "print(cs) "
   ]
  },
  {
   "cell_type": "markdown",
   "metadata": {},
   "source": [
    "## Utilisation d'une fonction integree pour trouver le minimum d'une fonction"
   ]
  },
  {
   "cell_type": "code",
   "execution_count": 96,
   "metadata": {
    "scrolled": true
   },
   "outputs": [
    {
     "name": "stdout",
     "output_type": "stream",
     "text": [
      "minimum fonction\n",
      "intercept 165491.74025040644\n",
      "pente 2184.8022071126265\n"
     ]
    }
   ],
   "source": [
    "from scipy.optimize import fmin_tnc\n",
    "\n",
    "essai = fmin_tnc(func = cost_function, fprime =gradient , x0 = initial_theta.flatten(),maxfun= 1000,  args = ( X_b , y.flatten() )) \n",
    "print('minimum fonction')\n",
    "print('intercept', essai[0][0])\n",
    "print('pente', essai[0][1])\n"
   ]
  },
  {
   "cell_type": "code",
   "execution_count": 81,
   "metadata": {},
   "outputs": [
    {
     "name": "stdout",
     "output_type": "stream",
     "text": [
      "547832.1264951162\n"
     ]
    }
   ],
   "source": [
    "x = np.array([1, 175])\n",
    "print(np.dot(x, essai[0])) "
   ]
  },
  {
   "cell_type": "markdown",
   "metadata": {},
   "source": [
    "## Avec une resolution de l'équation normale"
   ]
  },
  {
   "cell_type": "code",
   "execution_count": 94,
   "metadata": {},
   "outputs": [
    {
     "name": "stdout",
     "output_type": "stream",
     "text": [
      "equation de la normale\n",
      "intercept [165491.74025171]\n",
      "pente [2184.80220709]\n"
     ]
    }
   ],
   "source": [
    "y= data2['valeur_fonciere'].to_numpy()\n",
    "X=data2['surface_reelle_bati'].to_numpy()\n",
    "X = np.reshape(X,(-1,1))\n",
    "X_b = np.c_[np.ones((len(X),1)),X]\n",
    "y = np.reshape(y,(-1,1))\n",
    "theta = np.zeros((X_b.shape[1], 1))\n",
    "_tmp = X_b.transpose() \n",
    "theta = np.linalg.pinv(_tmp @ X_b) @ _tmp @ y\n",
    "print('equation de la normale')\n",
    "print('intercept', theta[0])\n",
    "print('pente', theta[1])\n"
   ]
  },
  {
   "cell_type": "markdown",
   "metadata": {},
   "source": [
    "## Mise à l'echelle et Normalisation"
   ]
  },
  {
   "cell_type": "code",
   "execution_count": 216,
   "metadata": {},
   "outputs": [
    {
     "name": "stdout",
     "output_type": "stream",
     "text": [
      "[[-0.35504886]\n",
      " [-0.38110749]\n",
      " [-0.52442997]\n",
      " [-0.71986971]\n",
      " [-0.14006515]\n",
      " [-0.62214984]\n",
      " [-0.61563518]\n",
      " [-0.21824104]\n",
      " [-0.29641694]\n",
      " [-0.97394137]\n",
      " [-0.76547231]\n",
      " [-0.23127036]\n",
      " [ 0.23778502]\n",
      " [-0.47882736]\n",
      " [-0.73289902]\n",
      " [-0.65472313]\n",
      " [-0.52442997]\n",
      " [-0.52442997]\n",
      " [-0.79153094]\n",
      " [-0.07491857]]\n",
      "[[ 3.90272258e-01]\n",
      " [ 3.07953078e-01]\n",
      " [-1.44802414e-01]\n",
      " [-7.62196266e-01]\n",
      " [ 1.06940550e+00]\n",
      " [-4.53499340e-01]\n",
      " [-4.32919545e-01]\n",
      " [ 8.22447955e-01]\n",
      " [ 5.75490414e-01]\n",
      " [-1.56480827e+00]\n",
      " [-9.06254831e-01]\n",
      " [ 7.81288365e-01]\n",
      " [ 2.26303361e+00]\n",
      " [-7.43848015e-04]\n",
      " [-8.03355856e-01]\n",
      " [-5.56398315e-01]\n",
      " [-1.44802414e-01]\n",
      " [-1.44802414e-01]\n",
      " [-9.88574011e-01]\n",
      " [ 1.27520345e+00]]\n"
     ]
    }
   ],
   "source": [
    "from sklearn import preprocessing\n",
    "X=data2['surface_reelle_bati'].to_numpy()\n",
    "X = np.reshape(X,(-1,1))\n",
    "min_max_scaler = preprocessing.MinMaxScaler((-1,1))\n",
    "x_scaled = min_max_scaler.fit_transform(X)\n",
    "print(x_scaled[:20])\n",
    "min_max_scaler = preprocessing.StandardScaler()\n",
    "x_scaled = min_max_scaler.fit_transform(X)\n",
    "print(x_scaled[:20])\n"
   ]
  },
  {
   "cell_type": "markdown",
   "metadata": {},
   "source": [
    "## Application de la descente en gradient apres mise à l'echelle"
   ]
  },
  {
   "cell_type": "code",
   "execution_count": 218,
   "metadata": {},
   "outputs": [],
   "source": [
    "def normalise(dataf):\n",
    "    mu    = 0\n",
    "    sigma = 0\n",
    "    mu = dataf.mean()\n",
    "    sigma = dataf.std( ddof=0)\n",
    "    nom = 'X'    \n",
    "    snorm = dataf\n",
    "    snorm.columns = ['normalised']\n",
    "    snorm =(snorm - mu )/ sigma\n",
    "    dtnorm = pd.concat([dataf,snorm],  axis =1)\n",
    "    dtnorm.columns = ['surface_reelle_bati', 'normalized']\n",
    "    print(mu, sigma)\n",
    "    print(snorm.head(5))\n",
    "    return dtnorm , mu , sigma\n",
    "\n"
   ]
  },
  {
   "cell_type": "code",
   "execution_count": 198,
   "metadata": {},
   "outputs": [
    {
     "name": "stdout",
     "output_type": "stream",
     "text": [
      "(83,)\n",
      "98.03614457831326 48.59134877215459\n",
      "0    0.390272\n",
      "1    0.307953\n",
      "2   -0.144802\n",
      "3   -0.762196\n",
      "4    1.069405\n",
      "dtype: float64\n",
      "    surface_reelle_bati  normalized\n",
      "0                 117.0    0.390272\n",
      "1                 113.0    0.307953\n",
      "2                  91.0   -0.144802\n",
      "3                  61.0   -0.762196\n",
      "4                 150.0    1.069405\n",
      "6                  76.0   -0.453499\n",
      "8                  77.0   -0.432920\n",
      "10                138.0    0.822448\n",
      "11                126.0    0.575490\n",
      "12                 22.0   -1.564808\n",
      "Index(['surface_reelle_bati', 'normalized'], dtype='object')\n"
     ]
    }
   ],
   "source": [
    "df = data2['surface_reelle_bati']\n",
    "print(df.shape)\n",
    "norm,mu, sigma = normalise( data2['surface_reelle_bati'])\n",
    "print(norm[:10])\n",
    "print(norm.columns)"
   ]
  },
  {
   "cell_type": "code",
   "execution_count": 199,
   "metadata": {},
   "outputs": [
    {
     "name": "stdout",
     "output_type": "stream",
     "text": [
      "(83,)\n",
      "[ 0.39027226  0.30795308 -0.14480241]\n",
      "(83, 1)\n",
      "[[ 0.39027226]\n",
      " [ 0.30795308]\n",
      " [-0.14480241]]\n",
      "(83, 2)\n",
      "[[ 1.          0.39027226]\n",
      " [ 1.          0.30795308]\n",
      " [ 1.         -0.14480241]]\n"
     ]
    }
   ],
   "source": [
    "Xn = norm['normalized'].to_numpy() \n",
    "print(Xn.shape)\n",
    "print(Xn[:3])\n",
    "\n",
    "Xn = np.reshape(Xn,(-1,1))\n",
    "print(Xn.shape)\n",
    "print(Xn[:3])\n",
    "X_b = np.c_[np.ones((len(Xn),1)),Xn]\n",
    "print(X_b.shape)\n",
    "print(X_b[:3])\n"
   ]
  },
  {
   "cell_type": "code",
   "execution_count": 211,
   "metadata": {},
   "outputs": [
    {
     "name": "stdout",
     "output_type": "stream",
     "text": [
      "batch de descente\n",
      "intercep [379681.32453414]\n",
      "pente [106162.48582848]\n",
      "pour la valeur 175:\n",
      "[1.         1.58390037]\n"
     ]
    }
   ],
   "source": [
    "lr =0.002\n",
    "n_iter = 10000\n",
    "theta = np.random.randn(2,1)\n",
    "initial_theta = theta\n",
    "theta,cost_history,theta_history = gradient_descent(X_b,y,theta,lr,n_iter)\n",
    "\n",
    "print('batch de descente')\n",
    "print('intercep', theta[0])\n",
    "print('pente', theta[1])\n",
    "print('pour la valeur 175:')\n",
    "x = np.array([1, 175])  ### faux !\n",
    "x = np.array([1,(175-mu) / sigma])\n",
    "print(x)"
   ]
  },
  {
   "cell_type": "code",
   "execution_count": 212,
   "metadata": {},
   "outputs": [
    {
     "name": "stdout",
     "output_type": "stream",
     "text": [
      "[547832.125386]\n"
     ]
    }
   ],
   "source": [
    "print(np.dot(x, theta)) "
   ]
  },
  {
   "cell_type": "markdown",
   "metadata": {},
   "source": [
    "## Visualisation de la courbe d apprentissage"
   ]
  },
  {
   "cell_type": "code",
   "execution_count": 213,
   "metadata": {},
   "outputs": [
    {
     "data": {
      "text/plain": [
       "[<matplotlib.lines.Line2D at 0x128186192e8>]"
      ]
     },
     "execution_count": 213,
     "metadata": {},
     "output_type": "execute_result"
    },
    {
     "data": {
      "image/png": "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\n",
      "text/plain": [
       "<Figure size 432x288 with 1 Axes>"
      ]
     },
     "metadata": {},
     "output_type": "display_data"
    }
   ],
   "source": [
    "iterations = range(0,len(cost_history), 100)\n",
    "cost = list()\n",
    "for item in iterations:\n",
    "    cost.append(cost_history[item])\n",
    "plt.plot( iterations, cost ,'.')\n"
   ]
  },
  {
   "cell_type": "code",
   "execution_count": null,
   "metadata": {},
   "outputs": [],
   "source": []
  }
 ],
 "metadata": {
  "kernelspec": {
   "display_name": "Python 3",
   "language": "python",
   "name": "python3"
  },
  "language_info": {
   "codemirror_mode": {
    "name": "ipython",
    "version": 3
   },
   "file_extension": ".py",
   "mimetype": "text/x-python",
   "name": "python",
   "nbconvert_exporter": "python",
   "pygments_lexer": "ipython3",
<<<<<<< HEAD
   "version": "3.7.6"
=======
   "version": "3.7.4"
>>>>>>> 0c8df2552b83d16a0398f4e9dec97cf5c2275b02
  }
 },
 "nbformat": 4,
 "nbformat_minor": 2
}
