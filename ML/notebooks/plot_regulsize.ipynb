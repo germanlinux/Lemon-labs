{
 "cells": [
  {
   "cell_type": "code",
   "execution_count": 2,
   "metadata": {},
   "outputs": [
    {
     "data": {
      "text/plain": [
       "<matplotlib.legend.Legend at 0x7f706a5eeb50>"
      ]
     },
     "execution_count": 2,
     "metadata": {},
     "output_type": "execute_result"
    },
    {
     "data": {
      "image/png": "[encoded data removed]",
      "text/plain": [
       "<Figure size 432x288 with 1 Axes>"
      ]
     },
     "metadata": {
      "needs_background": "light"
     },
     "output_type": "display_data"
    }
   ],
   "source": [
    "import matplotlib.pyplot as plt\n",
    "import pickle\n",
    "filename = 'regul_red2'\n",
    "try: \n",
    "    with open(filename, 'rb') as f1:\n",
    "        res = pickle.load(f1)\n",
    "except: \n",
    "    res = {}\n",
    "plt.figure()\n",
    "cp = 0\n",
    "l_epoc = []\n",
    "l_color = {}\n",
    "for item in res : \n",
    "    [epoc, size] = item.split('_')\n",
    "    l_color[int(size)] = item\n",
    "\n",
    "l_c = list(l_color.keys())\n",
    "l_c.sort()\n",
    "for item in l_c : \n",
    "    valeur = l_color[item]\n",
    "    [epoc, size] = valeur.split('_')\n",
    "    l_epoc.append(size)\n",
    "    plt.plot(range(1, int(epoc) + 1),res[valeur] ,f\"C{cp}\")    \n",
    "    cp+= 1\n",
    "\n",
    "plt.legend(l_c, loc =10)           "
   ]
  },
  {
   "cell_type": "code",
   "execution_count": 3,
   "metadata": {},
   "outputs": [
    {
     "name": "stdout",
     "output_type": "stream",
     "text": [
      "{'10_1': [array([[2567.072]], dtype=float32), array([[41779.9]], dtype=float32)], '10_10': [array([[3248.5986]], dtype=float32), array([[44265.582]], dtype=float32)], '10_15': [array([[5108.7974]], dtype=float32), array([[45217.242]], dtype=float32)]}\n"
     ]
    }
   ],
   "source": [
    "filename = 'estimations'\n",
    "try: \n",
    "    with open(filename, 'rb') as f1:\n",
    "        res = pickle.load(f1)\n",
    "except: \n",
    "    res = {}\n",
    "print(res)"
   ]
  },
  {
   "cell_type": "code",
   "execution_count": 5,
   "metadata": {},
   "outputs": [
    {
     "name": "stdout",
     "output_type": "stream",
     "text": [
      "10_1\n",
      "[1952.696]\n",
      "[3562.5508]\n",
      "10_10\n",
      "[1271.1694]\n",
      "[1076.8672]\n",
      "10_15\n",
      "[589.0293]\n",
      "[125.20703]\n"
     ]
    }
   ],
   "source": [
    "est1 = 4519.7678677\n",
    "est2 = 45342.45012945\n",
    "for item in res:\n",
    "    print(item)\n",
    "    print(abs(est1 - res[item][0][0]))\n",
    "    print(abs(est2 - res[item][1][0]))\n",
    "    "
   ]
  },
  {
   "cell_type": "code",
   "execution_count": null,
   "metadata": {},
   "outputs": [],
   "source": []
  }
 ],
 "metadata": {
  "kernelspec": {
   "display_name": "Python 3",
   "language": "python",
   "name": "python3"
  },
  "language_info": {
   "codemirror_mode": {
    "name": "ipython",
    "version": 3
   },
   "file_extension": ".py",
   "mimetype": "text/x-python",
   "name": "python",
   "nbconvert_exporter": "python",
   "pygments_lexer": "ipython3",
   "version": "3.7.6"
  }
 },
 "nbformat": 4,
 "nbformat_minor": 4
}
