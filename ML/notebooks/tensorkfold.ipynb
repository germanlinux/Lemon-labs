{
 "cells": [
  {
   "cell_type": "code",
   "execution_count": 1,
   "metadata": {},
   "outputs": [],
   "source": [
    "from keras import models\n",
    "from keras import layers\n",
    "import matplotlib.pyplot as plt"
   ]
  },
  {
   "cell_type": "markdown",
   "metadata": {},
   "source": [
    "# construction du modèle"
   ]
  },
  {
   "cell_type": "code",
   "execution_count": 2,
   "metadata": {},
   "outputs": [],
   "source": [
    "def build_model():\n",
    "    model = models.Sequential()\n",
    "    model.add(layers.Dense(64, activation='relu',\n",
    "                          input_shape = (train_data.shape[1],)))\n",
    "    model.add(layers.Dense(64, activation='relu'))\n",
    "    model.add(layers.Dense(1))\n",
    "    model.compile(optimizer ='rmsprop', loss ='mse' , metrics = ['mean_absolute_error'])\n",
    "    return model\n"
   ]
  },
  {
   "cell_type": "code",
   "execution_count": 3,
   "metadata": {},
   "outputs": [],
   "source": [
    "import pandas as pd\n",
    "import numpy as np\n",
    "data = pd.read_csv('ex1data1.txt', header=None,sep =',', names= ['x','y'])\n",
    "train_targets = data['y'][:70].to_numpy()\n",
    "train_targets = np.reshape(train_targets,(-1,1))\n",
    "train_data = data['x'][:70].to_numpy()\n",
    "train_data = np.reshape(train_data, (-1, 1))\n",
    "test_data = data['x'][70:].to_numpy()\n",
    "test_data = np.reshape(test_data, (-1, 1))\n",
    "test_targets = data['y'][70:].to_numpy()\n",
    "test_targets = np.reshape(test_targets, (-1, 1))\n",
    "moyenne = train_data.mean(axis= 0)\n",
    "train_data -= moyenne\n",
    "stand = train_data.std(axis = 0)\n",
    "train_data /= stand"
   ]
  },
  {
   "cell_type": "code",
   "execution_count": 4,
   "metadata": {},
   "outputs": [],
   "source": [
    "k = 3\n",
    "num_val_samples = len(train_data) // k\n",
    "num_epochs = 5\n",
    "all_mae_histories =[]\n",
    "for i in range(k):\n",
    "    val_data    = train_data[i * num_val_samples: (i + 1 ) * num_val_samples] \n",
    "    val_targets = train_targets[i * num_val_samples: (i + 1) * num_val_samples]\n",
    "    partial_train_data = np.concatenate(\n",
    "        [train_data[:i* num_val_samples], \n",
    "        train_data[(i + 1)* num_val_samples :  ]],\n",
    "        axis = 0)\n",
    "    partial_train_targets = np.concatenate(\n",
    "        [train_targets[:i* num_val_samples], \n",
    "        train_targets[(i + 1)* num_val_samples :  ]],\n",
    "        axis = 0)\n",
    "    "
   ]
  },
  {
   "cell_type": "code",
   "execution_count": 5,
   "metadata": {},
   "outputs": [],
   "source": [
    "    model = build_model()\n",
    "    history = model.fit(partial_train_data, partial_train_targets, validation_data = ( val_data, val_targets),\n",
    "                               epochs= num_epochs, batch_size = 1 , verbose = 0)\n",
    "    mae_history = history.history['val_mean_absolute_error']\n",
    "    all_mae_histories.append(mae_history)\n"
   ]
  },
  {
   "cell_type": "markdown",
   "metadata": {},
   "source": [
    "# Visualisation de la courbe d'apprentissage"
   ]
  },
  {
   "cell_type": "code",
   "execution_count": 6,
   "metadata": {},
   "outputs": [
    {
     "data": {
      "image/png": "[encoded data removed]",
      "text/plain": [
       "<Figure size 432x288 with 1 Axes>"
      ]
     },
     "metadata": {
      "needs_background": "light"
     },
     "output_type": "display_data"
    }
   ],
   "source": [
    "average_mae_histo = [np.mean(\n",
    "    [x[i] for x in all_mae_histories]) for i in range(num_epochs)]\n",
    "plt.plot(range(1, len(average_mae_histo ) + 1), average_mae_histo )\n",
    "plt.xlabel('nb de cycle')\n",
    "plt.ylabel('MAE')\n",
    "plt.show()"
   ]
  },
  {
   "cell_type": "markdown",
   "metadata": {},
   "source": [
    "# visualisation de la courbe des estimations"
   ]
  },
  {
   "cell_type": "code",
   "execution_count": 10,
   "metadata": {},
   "outputs": [
    {
     "data": {
      "text/plain": [
       "[<matplotlib.lines.Line2D at 0x7f6a881dfd90>]"
      ]
     },
     "execution_count": 10,
     "metadata": {},
     "output_type": "execute_result"
    },
    {
     "data": {
      "image/png": "[encoded data removed]",
      "text/plain": [
       "<Figure size 432x288 with 1 Axes>"
      ]
     },
     "metadata": {
      "needs_background": "light"
     },
     "output_type": "display_data"
    }
   ],
   "source": [
    "estimation = [] \n",
    "X = sorted(train_data)\n",
    "for un_x in  X:\n",
    "    estimation.append(model.predict([un_x]).flatten().tolist()[0])\n",
    "    \n",
    "plt.scatter(train_data, train_targets, c='red', marker ='x')\n",
    "plt.plot(X, estimation)    "
   ]
  },
  {
   "cell_type": "code",
   "execution_count": 11,
   "metadata": {},
   "outputs": [
    {
     "name": "stdout",
     "output_type": "stream",
     "text": [
      "[-1.19300845] [-0.37378287]\n",
      "estimation 35000:  [[64725.188]]\n",
      "estimation 70000:  [[43773.35]]\n"
     ]
    }
   ],
   "source": [
    "est1 = (3.5000 - moyenne) / stand\n",
    "est2 = (7.0000 - moyenne) / stand\n",
    "\n",
    "print(est1, est2)\n",
    "ret1 = (model.predict([est1])*10000)\n",
    "ret2 = (model.predict([est2])*10000)\n",
    "print('estimation 35000: ',ret1)\n",
    "print('estimation 70000: ',ret2)"
   ]
  },
  {
   "cell_type": "code",
   "execution_count": null,
   "metadata": {},
   "outputs": [],
   "source": []
  }
 ],
 "metadata": {
  "kernelspec": {
   "display_name": "keras",
   "language": "python",
   "name": "mytf"
  },
  "language_info": {
   "codemirror_mode": {
    "name": "ipython",
    "version": 3
   },
   "file_extension": ".py",
   "mimetype": "text/x-python",
   "name": "python",
   "nbconvert_exporter": "python",
   "pygments_lexer": "ipython3",
   "version": "3.7.6"
  }
 },
 "nbformat": 4,
 "nbformat_minor": 4
}
