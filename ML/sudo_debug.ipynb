{
 "cells": [
  {
   "cell_type": "code",
   "execution_count": 1,
   "metadata": {},
   "outputs": [],
   "source": [
    "import numpy as np\n",
    "import pandas as pd\n",
    "import keras\n",
    "import tensorflow as tf\n",
    "import keras.backend as K\n",
    "from keras.optimizers import Adam\n",
    "from keras.models import Sequential\n",
    "from keras.utils import Sequence\n",
    "from keras.layers import *\n",
    "import matplotlib.pyplot as plt"
   ]
  },
  {
   "cell_type": "code",
   "execution_count": null,
   "metadata": {},
   "outputs": [],
   "source": [
    "path = \"input/\"\n",
    "data = pd.read_csv(path+\"sudoku.csv\")\n",
    "try:\n",
    "    data = pd.DataFrame({\"quizzes\":data[\"puzzle\"],\"solutions\":data[\"solution\"]})\n",
    "except:\n",
    "    pass\n",
    "\n",
    "data.info()"
   ]
  },
  {
   "cell_type": "code",
   "execution_count": null,
   "metadata": {},
   "outputs": [],
   "source": [
    "data.head()"
   ]
  },
  {
   "cell_type": "code",
   "execution_count": null,
   "metadata": {},
   "outputs": [],
   "source": [
    "print(\"Quiz:\\n\",np.array(list(map(int,list(data['quizzes'][0])))).reshape(9,9))\n",
    "print(\"Solution:\\n\",np.array(list(map(int,list(data['solutions'][0])))).reshape(9,9))\n"
   ]
  },
  {
   "cell_type": "code",
   "execution_count": null,
   "metadata": {},
   "outputs": [],
   "source": [
    "class DataGenerator(Sequence):\n",
    "    def __init__(self, df,batch_size = 16,subset = \"train\",shuffle = False, info={}):\n",
    "        super().__init__()\n",
    "        self.df = df\n",
    "        self.batch_size = batch_size\n",
    "        self.shuffle = shuffle\n",
    "        self.subset = subset\n",
    "        self.info = info\n",
    "        \n",
    "        self.data_path = path\n",
    "        self.on_epoch_end()\n",
    "        \n",
    "    def __len__(self):\n",
    "        return int(np.floor(len(self.df)/self.batch_size))\n",
    "    def on_epoch_end(self):\n",
    "        self.indexes = np.arange(len(self.df))\n",
    "        if self.shuffle==True:\n",
    "            np.random.shuffle(self.indexes)\n",
    "            \n",
    "    def __getitem__(self,index):\n",
    "        X = np.empty((self.batch_size, 9,9,1))\n",
    "        y = np.empty((self.batch_size,81,1))\n",
    "        indexes = self.indexes[index*self.batch_size:(index+1)*self.batch_size]\n",
    "        for i,f in enumerate(self.df['quizzes'].iloc[indexes]):\n",
    "            self.info[index*self.batch_size+i]=f\n",
    "            X[i,] = (np.array(list(map(int,list(f)))).reshape((9,9,1))/9)-0.5\n",
    "        if self.subset == 'train': \n",
    "            for i,f in enumerate(self.df['solutions'].iloc[indexes]):\n",
    "                self.info[index*self.batch_size+i]=f\n",
    "                y[i,] = np.array(list(map(int,list(f)))).reshape((81,1)) - 1\n",
    "        if self.subset == 'train': return X, y\n",
    "        else: return X"
   ]
  },
  {
   "cell_type": "code",
   "execution_count": null,
   "metadata": {},
   "outputs": [],
   "source": [
    "train_idx = int(len(data)*0.95)\n",
    "data = data.sample(frac=1).reset_index(drop=True)\n",
    "training_generator = DataGenerator(data.iloc[:train_idx], subset = \"train\", batch_size=32)\n",
    "validation_generator = DataGenerator(data.iloc[train_idx:], subset = \"train\",  batch_size=32)        "
   ]
  },
  {
   "cell_type": "code",
   "execution_count": null,
   "metadata": {},
   "outputs": [],
   "source": [
    "type(training_generator)"
   ]
  },
  {
   "cell_type": "code",
   "execution_count": null,
   "metadata": {},
   "outputs": [],
   "source": [
    "training_generator.__getitem__(4)[0].shape"
   ]
  },
  {
   "cell_type": "code",
   "execution_count": 2,
   "metadata": {},
   "outputs": [],
   "source": [
    "model = Sequential()\n",
    "\n",
    "model.add(Conv2D(32, kernel_size=(3,3), activation='relu', padding='same', input_shape=(9,9,1)))\n",
    "model.add(BatchNormalization())\n",
    "model.add(Conv2D(64, kernel_size=(3,3), activation='relu', padding='same'))\n",
    "model.add(BatchNormalization())\n",
    "model.add(Conv2D(128, kernel_size=(1,1), activation='relu', padding='same'))\n",
    "\n",
    "model.add(Flatten())\n",
    "model.add(Dense(81*9))\n",
    "model.add(Reshape((-1, 9)))\n",
    "model.add(Activation('softmax'))\n",
    "\n",
    "adam = tf.keras.optimizers.Adam(lr=.001)\n",
    "model.compile(loss='sparse_categorical_crossentropy', optimizer=adam, metrics=['accuracy'])"
   ]
  },
  {
   "cell_type": "code",
   "execution_count": 3,
   "metadata": {},
   "outputs": [
    {
     "name": "stdout",
     "output_type": "stream",
     "text": [
      "Model: \"sequential\"\n",
      "_________________________________________________________________\n",
      "Layer (type)                 Output Shape              Param #   \n",
      "=================================================================\n",
      "conv2d (Conv2D)              (None, 9, 9, 32)          320       \n",
      "_________________________________________________________________\n",
      "batch_normalization (BatchNo (None, 9, 9, 32)          128       \n",
      "_________________________________________________________________\n",
      "conv2d_1 (Conv2D)            (None, 9, 9, 64)          18496     \n",
      "_________________________________________________________________\n",
      "batch_normalization_1 (Batch (None, 9, 9, 64)          256       \n",
      "_________________________________________________________________\n",
      "conv2d_2 (Conv2D)            (None, 9, 9, 128)         8320      \n",
      "_________________________________________________________________\n",
      "flatten (Flatten)            (None, 10368)             0         \n",
      "_________________________________________________________________\n",
      "dense (Dense)                (None, 729)               7559001   \n",
      "_________________________________________________________________\n",
      "reshape (Reshape)            (None, 81, 9)             0         \n",
      "_________________________________________________________________\n",
      "activation (Activation)      (None, 81, 9)             0         \n",
      "=================================================================\n",
      "Total params: 7,586,521\n",
      "Trainable params: 7,586,329\n",
      "Non-trainable params: 192\n",
      "_________________________________________________________________\n"
     ]
    }
   ],
   "source": [
    "model.summary()"
   ]
  },
  {
   "cell_type": "code",
   "execution_count": null,
   "metadata": {},
   "outputs": [],
   "source": [
    "from keras.callbacks import Callback, ModelCheckpoint, ReduceLROnPlateau\n",
    "filepath1=\"weights-improvement-{epoch:02d}-{val_accuracy:.2f}.hdf5\"\n",
    "filepath2 = \"best_weights.hdf5\"\n",
    "checkpoint1 = ModelCheckpoint(filepath1, monitor='val_accuracy', verbose=1, save_best_only=True, mode='max')\n",
    "checkpoint2 = ModelCheckpoint(filepath2, monitor='val_accuracy', verbose=1, save_best_only=True, mode='max')\n",
    "\n",
    "reduce_lr = ReduceLROnPlateau(\n",
    "    monitor='val_loss',\n",
    "    patience=3,\n",
    "    verbose=1,\n",
    "    min_lr=1e-6\n",
    ")\n",
    "callbacks_list = [checkpoint1,checkpoint2,reduce_lr]"
   ]
  },
  {
   "cell_type": "code",
   "execution_count": null,
   "metadata": {
    "scrolled": true
   },
   "outputs": [],
   "source": [
    "history = model.fit_generator(training_generator, validation_data = validation_generator, epochs = 3, verbose=1,callbacks=callbacks_list )"
   ]
  },
  {
   "cell_type": "code",
   "execution_count": 3,
   "metadata": {},
   "outputs": [],
   "source": [
    "model.load_weights('best_weights.hdf5')"
   ]
  },
  {
   "cell_type": "code",
   "execution_count": 10,
   "metadata": {},
   "outputs": [],
   "source": [
    "def norm(a):\n",
    "    return (a/9)-.5\n",
    "\n",
    "def denorm(a):\n",
    "    return (a+.5)*9\n",
    "\n",
    "def inference_sudoku(sample):\n",
    "    \n",
    "    '''\n",
    "        This function solve the sudoku by filling blank positions one by one.\n",
    "    '''\n",
    "    \n",
    "    feat = sample\n",
    "\n",
    "    cp =0\n",
    "    while(cp < 1):\n",
    "    \n",
    "        out = model.predict(feat.reshape((1,9,9,1))) \n",
    "        \n",
    "        out = out.squeeze()\n",
    "        \n",
    "        pred = np.argmax(out, axis=1).reshape((9,9))+1 \n",
    "        prob = np.around(np.max(out, axis=1).reshape((9,9)), 2) \n",
    "        \n",
    "        feat = denorm(feat).reshape((9,9))\n",
    "        mask = (feat==0)\n",
    "        if(mask.sum()==0):\n",
    "            break\n",
    "            \n",
    "        prob_new = prob*mask\n",
    "        ind = np.argmax(prob_new)\n",
    "        print(ind)\n",
    "        x, y = (ind//9), (ind%9)\n",
    "\n",
    "        val = pred[x][y]\n",
    "        print(x+1, y+1 , val)\n",
    "        feat[x][y] = val\n",
    "        print(feat)\n",
    "        feat = norm(feat)\n",
    "        \n",
    "        cp+=1\n",
    "    return pred\n",
    "\n",
    "def test_accuracy(feats, labels):\n",
    "    \n",
    "    correct = 0\n",
    "    \n",
    "    for i,feat in enumerate(feats):\n",
    "        \n",
    "        pred = inference_sudoku(feat)\n",
    "        \n",
    "        true = labels[i].reshape((9,9))+1\n",
    "        \n",
    "        if(abs(true - pred).sum()==0):\n",
    "            correct += 1\n",
    "        \n",
    "    print(correct/feats.shape[0])\n",
    "\n",
    "def solve_sudoku(game):\n",
    "    try:\n",
    "        game = game.replace('\\n', '')\n",
    "        game = game.replace(' ', '')\n",
    "        game = np.array([int(j) for j in game]).reshape((9,9,1))   \n",
    "    except: \n",
    "        pass\n",
    "   \n",
    "    game = game.reshape((9,9,1))\n",
    "   \n",
    "    game = norm(game)\n",
    "    game = inference_sudoku(game)\n",
    "    return game"
   ]
  },
  {
   "cell_type": "code",
   "execution_count": null,
   "metadata": {},
   "outputs": [],
   "source": [
    "game = '''\n",
    "          0 0 0 7 0 0 0 9 6\n",
    "          0 0 3 0 6 9 1 7 8\n",
    "          0 0 7 2 0 0 5 0 0\n",
    "          0 7 5 0 0 0 0 0 0\n",
    "          9 0 1 0 0 0 3 0 0\n",
    "          0 0 0 0 0 0 0 0 0\n",
    "          0 0 9 0 0 0 0 0 1\n",
    "          3 1 8 0 2 0 4 0 7\n",
    "          2 4 0 0 0 5 0 0 0\n",
    "      '''"
   ]
  },
  {
   "cell_type": "code",
   "execution_count": null,
   "metadata": {},
   "outputs": [],
   "source": [
    "\n",
    "game = solve_sudoku(game)\n",
    "\n",
    "print('solved puzzle:\\n')\n",
    "print(game)"
   ]
  },
  {
   "cell_type": "code",
   "execution_count": 12,
   "metadata": {},
   "outputs": [
    {
     "name": "stdout",
     "output_type": "stream",
     "text": [
      "[[9 1 6 4 7 5 2 8 7]\n",
      " [5 7 2 6 9 9 5 4 1]\n",
      " [3 4 8 6 7 2 6 9 6]\n",
      " [2 9 4 1 6 9 3 5 7]\n",
      " [7 3 1 5 4 8 9 6 2]\n",
      " [2 6 5 2 3 7 4 1 8]\n",
      " [4 6 3 7 1 4 6 2 9]\n",
      " [8 2 9 5 5 4 1 7 5]\n",
      " [1 5 7 9 2 6 8 3 4]]\n",
      "[[9. 0. 6. 4. 0. 5. 0. 8. 0.]\n",
      " [0. 7. 2. 0. 0. 0. 0. 4. 1.]\n",
      " [3. 4. 0. 0. 0. 2. 0. 0. 0.]\n",
      " [0. 0. 4. 1. 6. 0. 3. 0. 0.]\n",
      " [7. 0. 1. 0. 4. 0. 9. 0. 2.]\n",
      " [0. 0. 5. 0. 3. 7. 4. 0. 0.]\n",
      " [0. 0. 0. 7. 0. 0. 0. 2. 9.]\n",
      " [8. 2. 0. 0. 0. 0. 1. 7. 0.]\n",
      " [0. 5. 0. 9. 0. 6. 8. 0. 4.]]\n",
      "[[False  True False False  True False  True False  True]\n",
      " [ True False False  True  True  True  True False False]\n",
      " [False False  True  True  True False  True  True  True]\n",
      " [ True  True False False False  True False  True  True]\n",
      " [False  True False  True False  True False  True False]\n",
      " [ True  True False  True False False False  True  True]\n",
      " [ True  True  True False  True  True  True False False]\n",
      " [False False  True  True  True  True False False  True]\n",
      " [ True False  True False  True False False  True False]]\n",
      "[[1.   1.   1.   1.   0.78 1.   0.67 1.   0.57]\n",
      " [1.   1.   1.   0.6  0.76 0.53 0.79 1.   1.  ]\n",
      " [1.   1.   1.   0.85 0.56 1.   0.45 0.8  0.37]\n",
      " [1.   0.64 1.   1.   1.   0.78 1.   1.   0.65]\n",
      " [1.   0.77 1.   0.88 1.   1.   1.   0.74 1.  ]\n",
      " [0.69 0.48 1.   0.9  1.   1.   1.   0.88 0.88]\n",
      " [0.39 0.48 1.   1.   0.48 0.49 0.67 1.   1.  ]\n",
      " [1.   1.   0.89 0.62 1.   0.89 1.   1.   0.61]\n",
      " [1.   1.   0.95 1.   0.83 1.   1.   1.   1.  ]]\n",
      "[[0.   1.   0.   0.   0.78 0.   0.67 0.   0.57]\n",
      " [1.   0.   0.   0.6  0.76 0.53 0.79 0.   0.  ]\n",
      " [0.   0.   1.   0.85 0.56 0.   0.45 0.8  0.37]\n",
      " [1.   0.64 0.   0.   0.   0.78 0.   1.   0.65]\n",
      " [0.   0.77 0.   0.88 0.   1.   0.   0.74 0.  ]\n",
      " [0.69 0.48 0.   0.9  0.   0.   0.   0.88 0.88]\n",
      " [0.39 0.48 1.   0.   0.48 0.49 0.67 0.   0.  ]\n",
      " [0.   0.   0.89 0.62 1.   0.89 0.   0.   0.61]\n",
      " [1.   0.   0.95 0.   0.83 0.   0.   1.   0.  ]]\n",
      "1\n"
     ]
    }
   ],
   "source": [
    "entree_facile = np.array([[9, 0, 6, 4, 0, 5, 0, 8, 0],\n",
    "                 [0, 7, 2, 0, 0, 0, 0, 4, 1],\n",
    "                 [3, 4, 0, 0, 0, 2, 0, 0, 0],\n",
    "                 [0, 0, 4, 1, 6, 0, 3, 0, 0],\n",
    "                 [7, 0, 1, 0, 4, 0, 9, 0, 2],\n",
    "                 [0, 0, 5, 0, 3, 7, 4, 0, 0],\n",
    "                 [0, 0, 0, 7, 0, 0, 0, 2, 9],\n",
    "                 [8, 2, 0, 0, 0, 0, 1, 7, 0],\n",
    "                 [0, 5, 0, 9, 0, 6, 8, 0, 4]])\n",
    "game = solve_sudoku(entree_facile)\n"
   ]
  },
  {
   "cell_type": "code",
   "execution_count": 8,
   "metadata": {},
   "outputs": [
    {
     "name": "stdout",
     "output_type": "stream",
     "text": [
      "solved puzzle:\n",
      "\n",
      "[[9 1 6 4 7 5 2 8 7]\n",
      " [5 7 2 6 9 9 5 4 1]\n",
      " [3 4 8 6 7 2 6 9 6]\n",
      " [2 9 4 1 6 9 3 5 7]\n",
      " [7 3 1 5 4 8 9 6 2]\n",
      " [2 6 5 2 3 7 4 1 8]\n",
      " [4 6 3 7 1 4 6 2 9]\n",
      " [8 2 9 5 5 4 1 7 5]\n",
      " [1 5 7 9 2 6 8 3 4]]\n"
     ]
    }
   ],
   "source": [
    "print('solved puzzle:\\n')\n",
    "print(game)"
   ]
  },
  {
   "cell_type": "code",
   "execution_count": 15,
   "metadata": {},
   "outputs": [
    {
     "name": "stdout",
     "output_type": "stream",
     "text": [
      "[49 48 51 46 45 38 42 46 45]\n",
      "[41 43 45 45 44 54 44 45 49]\n"
     ]
    }
   ],
   "source": [
    "print(game.sum(axis = 1))\n",
    "print(game.sum(axis = 0))\n"
   ]
  },
  {
   "cell_type": "code",
   "execution_count": 11,
   "metadata": {},
   "outputs": [
    {
     "name": "stdout",
     "output_type": "stream",
     "text": [
      "59\n",
      "7 6 4\n",
      "[[8. 0. 0. 9. 0. 0. 3. 2. 1.]\n",
      " [1. 0. 0. 4. 0. 0. 7. 6. 0.]\n",
      " [7. 0. 0. 6. 1. 0. 0. 9. 0.]\n",
      " [0. 7. 1. 0. 3. 0. 0. 5. 0.]\n",
      " [0. 8. 0. 1. 4. 0. 2. 3. 7.]\n",
      " [3. 0. 0. 7. 0. 9. 1. 8. 0.]\n",
      " [0. 1. 8. 3. 0. 4. 0. 7. 2.]\n",
      " [0. 2. 7. 5. 0. 1. 0. 4. 3.]\n",
      " [0. 0. 3. 0. 0. 0. 0. 1. 0.]]\n",
      "[[8 6 6 9 7 7 3 2 1]\n",
      " [1 3 2 4 8 3 7 6 8]\n",
      " [7 3 2 6 1 3 4 9 4]\n",
      " [2 7 1 8 3 8 4 5 9]\n",
      " [5 8 9 1 4 5 2 3 7]\n",
      " [3 5 2 7 5 9 1 8 4]\n",
      " [4 1 8 3 9 4 9 7 2]\n",
      " [6 2 7 5 8 1 8 4 3]\n",
      " [4 4 3 2 2 2 5 1 8]]\n"
     ]
    }
   ],
   "source": [
    "#tordu = np.array([[0, 0, 0, 0, 0, 0, 3, 0, 0], [1, 0, 0, 4, 0, 0, 0, 6, 0], [7, 0, 0, 6, 1, 0, 0, 9, 0], [0, 7, 0, 0, 3, 0, 0, 0, 0], [0, 8, 0, 0, 4, 0, 2, 0, 0], [3, 0, 0, 7, 0, 9, 1, 8, 0], [0, 1, 8, 0, 0, 0, 0, 0, 2], [0, 2, 0, 5, 0, 0, 0, 4, 0], [0, 0, 3, 0, 0, 0, 0, 1, 0]])\n",
    "tordu = np.array( [\n",
    "[8,0,0,9,0,0, 3,2,1],\n",
    "[1,0,0,4,0,0, 7,6,0],\n",
    "[7,0,0,6,1,0, 0,9,0],\n",
    "[0,7,1,0,3,0, 0,5,0],\n",
    "[0,8,0,1,4,0, 2,3,7],\n",
    "[3,0,0,7,0,9, 1,8,0],\n",
    "[0,1,8,3,0,0, 0,7,2],\n",
    "[0,2,7,5,0,1, 0,4,3],\n",
    "[0,0,3,0,0,0, 0,1,0]\n",
    "])\n",
    "game = solve_sudoku(tordu)\n",
    "print(game)\n"
   ]
  },
  {
   "cell_type": "code",
   "execution_count": 6,
   "metadata": {},
   "outputs": [
    {
     "data": {
      "text/plain": [
       "6"
      ]
     },
     "execution_count": 6,
     "metadata": {},
     "output_type": "execute_result"
    }
   ],
   "source": [
    "59//9\n"
   ]
  },
  {
   "cell_type": "code",
   "execution_count": 7,
   "metadata": {},
   "outputs": [
    {
     "data": {
      "text/plain": [
       "5"
      ]
     },
     "execution_count": 7,
     "metadata": {},
     "output_type": "execute_result"
    }
   ],
   "source": [
    "59%9"
   ]
  },
  {
   "cell_type": "code",
   "execution_count": null,
   "metadata": {},
   "outputs": [],
   "source": []
  }
 ],
 "metadata": {
  "kernelspec": {
   "display_name": "keras",
   "language": "python",
   "name": "mytf"
  },
  "language_info": {
   "codemirror_mode": {
    "name": "ipython",
    "version": 3
   },
   "file_extension": ".py",
   "mimetype": "text/x-python",
   "name": "python",
   "nbconvert_exporter": "python",
   "pygments_lexer": "ipython3",
   "version": "3.7.6"
  }
 },
 "nbformat": 4,
 "nbformat_minor": 4
}
