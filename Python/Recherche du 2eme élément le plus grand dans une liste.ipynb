{
 "cells": [
  {
   "cell_type": "markdown",
   "metadata": {},
   "source": [
    "## Génération d'une liste d'élément aléatoire"
   ]
  },
  {
   "cell_type": "code",
   "execution_count": 22,
   "metadata": {},
   "outputs": [],
   "source": [
    "import random\n",
    "randomlist = []\n",
    "for i in range(0,1000000):\n",
    "    n = random.randint(1,50)\n",
    "    randomlist.append(n)\n"
   ]
  },
  {
   "cell_type": "code",
   "execution_count": 23,
   "metadata": {},
   "outputs": [
    {
     "name": "stdout",
     "output_type": "stream",
     "text": [
      "50\n",
      "Wall time: 203 ms\n"
     ]
    }
   ],
   "source": [
    "%%time\n",
    "listetriee = sorted(randomlist,reverse =1)\n",
    "print(listetriee[1])\n"
   ]
  },
  {
   "cell_type": "code",
   "execution_count": 25,
   "metadata": {},
   "outputs": [
    {
     "name": "stdout",
     "output_type": "stream",
     "text": [
      "[50, 50, 50, 50, 50, 50, 50, 50, 50, 50, 50, 50, 50, 50, 50, 50, 50, 50, 50, 50]\n"
     ]
    }
   ],
   "source": [
    "print(listetriee[:20])"
   ]
  },
  {
   "cell_type": "markdown",
   "metadata": {},
   "source": [
    "### Utilisation d'une structure 'set' pour avoir des valeurs uniques puis tri du set"
   ]
  },
  {
   "cell_type": "code",
   "execution_count": 27,
   "metadata": {},
   "outputs": [
    {
     "name": "stdout",
     "output_type": "stream",
     "text": [
      "taille de la liste: 50\n",
      "49\n",
      "Wall time: 48 ms\n"
     ]
    }
   ],
   "source": [
    "%%time\n",
    "unique = set(randomlist)\n",
    "print('taille de la liste:', len(unique))\n",
    "listetriee =sorted(unique, reverse = 1)\n",
    "print(listetriee[1])"
   ]
  },
  {
   "cell_type": "markdown",
   "metadata": {},
   "source": [
    "### Méthode classique de balayage d'une liste "
   ]
  },
  {
   "cell_type": "code",
   "execution_count": 3,
   "metadata": {},
   "outputs": [
    {
     "name": "stdout",
     "output_type": "stream",
     "text": [
      "49\n",
      "Wall time: 73.5 ms\n"
     ]
    }
   ],
   "source": [
    "%%time\n",
    "unmax = 0\n",
    "deuxmax = 0\n",
    "for i in randomlist:\n",
    "    if i > unmax:\n",
    "        deuxmax = unmax\n",
    "        unmax = i\n",
    "    else:\n",
    "        if i > deuxmax and i < unmax:\n",
    "            deuxmax =i\n",
    "            \n",
    "print(deuxmax)        "
   ]
  },
  {
   "cell_type": "markdown",
   "metadata": {},
   "source": [
    "## Utilisation d'un générateur"
   ]
  },
  {
   "cell_type": "code",
   "execution_count": 4,
   "metadata": {},
   "outputs": [],
   "source": [
    "def generateur(maxocc):\n",
    "    cp = 0\n",
    "    while(cp < maxocc):\n",
    "        yield (random.randint(1,50))\n",
    "        cp += 1\n"
   ]
  },
  {
   "cell_type": "markdown",
   "metadata": {},
   "source": [
    "### Test du générateur"
   ]
  },
  {
   "cell_type": "code",
   "execution_count": 5,
   "metadata": {},
   "outputs": [
    {
     "name": "stdout",
     "output_type": "stream",
     "text": [
      "23\n",
      "21\n",
      "21\n",
      "34\n",
      "19\n",
      "38\n",
      "24\n",
      "18\n",
      "45\n",
      "49\n"
     ]
    }
   ],
   "source": [
    "for i in generateur(1000000):\n",
    "    print(i) \n",
    "    if i > 48 :\n",
    "        break\n",
    "        "
   ]
  },
  {
   "cell_type": "code",
   "execution_count": 6,
   "metadata": {},
   "outputs": [
    {
     "name": "stdout",
     "output_type": "stream",
     "text": [
      "49\n",
      "Wall time: 1.39 s\n"
     ]
    }
   ],
   "source": [
    "%%time\n",
    "unmax = 0\n",
    "deuxmax = 0\n",
    "for i in generateur(1000000):\n",
    "    if i > unmax:\n",
    "        deuxmax = unmax\n",
    "        unmax = i\n",
    "    else:\n",
    "        if i > deuxmax and i < unmax:\n",
    "            deuxmax =i\n",
    "            \n",
    "print(deuxmax)        "
   ]
  },
  {
   "cell_type": "markdown",
   "metadata": {},
   "source": [
    "## Avec une conprehension de liste"
   ]
  },
  {
   "cell_type": "code",
   "execution_count": 34,
   "metadata": {},
   "outputs": [],
   "source": [
    "maliste = [ random.randint(1,50) for i in range(10000000)]\n"
   ]
  },
  {
   "cell_type": "code",
   "execution_count": 11,
   "metadata": {},
   "outputs": [
    {
     "data": {
      "text/plain": [
       "[3, 47, 48, 38, 31]"
      ]
     },
     "execution_count": 11,
     "metadata": {},
     "output_type": "execute_result"
    }
   ],
   "source": [
    "maliste[:5]"
   ]
  },
  {
   "cell_type": "code",
   "execution_count": 36,
   "metadata": {},
   "outputs": [
    {
     "name": "stdout",
     "output_type": "stream",
     "text": [
      "49\n",
      "Wall time: 3.65 s\n"
     ]
    }
   ],
   "source": [
    "%%time\n",
    "unmax = 0\n",
    "deuxmax = 0\n",
    "with open('grosfichier.txt', 'r')  as file:\n",
    "    for ligne in file:\n",
    "        i = int(ligne[:-1])\n",
    "        if i > unmax:\n",
    "            deuxmax = unmax\n",
    "            unmax = i\n",
    "    else:\n",
    "        if i > deuxmax and i < unmax:\n",
    "            deuxmax =i\n",
    "print(deuxmax)\n"
   ]
  },
  {
   "cell_type": "code",
   "execution_count": 35,
   "metadata": {},
   "outputs": [],
   "source": [
    "with open('grosfichier.txt', 'a') as the_file:\n",
    "    for i in maliste:\n",
    "        the_file.write(f\"{i}\\n\")\n",
    "        "
   ]
  },
  {
   "cell_type": "code",
   "execution_count": null,
   "metadata": {},
   "outputs": [],
   "source": []
  }
 ],
 "metadata": {
  "kernelspec": {
   "display_name": "Python 3",
   "language": "python",
   "name": "python3"
  },
  "language_info": {
   "codemirror_mode": {
    "name": "ipython",
    "version": 3
   },
   "file_extension": ".py",
   "mimetype": "text/x-python",
   "name": "python",
   "nbconvert_exporter": "python",
   "pygments_lexer": "ipython3",
   "version": "3.7.4"
  }
 },
 "nbformat": 4,
 "nbformat_minor": 2
}
